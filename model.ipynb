{
 "cells": [
  {
   "cell_type": "markdown",
   "metadata": {},
   "source": [
    "### Imports"
   ]
  },
  {
   "cell_type": "code",
   "execution_count": 1,
   "metadata": {},
   "outputs": [
    {
     "name": "stderr",
     "output_type": "stream",
     "text": [
      "Using TensorFlow backend.\n"
     ]
    }
   ],
   "source": [
    "from keras.callbacks import EarlyStopping, ModelCheckpoint\n",
    "from keras.models import Sequential, load_model\n",
    "from keras.layers.recurrent import GRU\n",
    "from keras.layers import Dense, LSTM, Bidirectional\n",
    "\n",
    "from encrypt import *\n",
    "from tools import *\n",
    "import string"
   ]
  },
  {
   "cell_type": "markdown",
   "metadata": {},
   "source": [
    "### Configurations"
   ]
  },
  {
   "cell_type": "code",
   "execution_count": 2,
   "metadata": {},
   "outputs": [],
   "source": [
    "letters = string.printable.split('!')[0]\n",
    "encrypt = shifting_cipher\n",
    "samples_count = 200000\n",
    "text_length = 10\n",
    "\n",
    "set_characters(letters)\n",
    "model_path = f\"{encrypt.__name__}_{len(letters)}x{text_length}_best_model.h5\""
   ]
  },
  {
   "cell_type": "markdown",
   "metadata": {},
   "source": [
    "### Generating and Preparing Data"
   ]
  },
  {
   "cell_type": "code",
   "execution_count": 3,
   "metadata": {},
   "outputs": [],
   "source": [
    "text = generate_text(text_length, samples_count)\n",
    "cipher = list(map(encrypt, text))\n",
    "\n",
    "train_text = to_vec(text)\n",
    "train_cipher = to_vec(cipher)"
   ]
  },
  {
   "cell_type": "markdown",
   "metadata": {},
   "source": [
    "### Building and Training the Model"
   ]
  },
  {
   "cell_type": "code",
   "execution_count": 4,
   "metadata": {},
   "outputs": [
    {
     "name": "stdout",
     "output_type": "stream",
     "text": [
      "_________________________________________________________________\n",
      "Layer (type)                 Output Shape              Param #   \n",
      "=================================================================\n",
      "bidirectional_1 (Bidirection (None, 10, 256)           99840     \n",
      "_________________________________________________________________\n",
      "dense_1 (Dense)              (None, 10, 1)             257       \n",
      "=================================================================\n",
      "Total params: 100,097\n",
      "Trainable params: 100,097\n",
      "Non-trainable params: 0\n",
      "_________________________________________________________________\n"
     ]
    }
   ],
   "source": [
    "model = Sequential()\n",
    "model.add(Bidirectional(GRU(128, return_sequences=True), input_shape=train_cipher.shape[1:]))\n",
    "model.add(Dense(1))\n",
    "model.summary()"
   ]
  },
  {
   "cell_type": "code",
   "execution_count": 5,
   "metadata": {},
   "outputs": [
    {
     "name": "stdout",
     "output_type": "stream",
     "text": [
      "Train on 180000 samples, validate on 20000 samples\n",
      "Epoch 1/5\n",
      "180000/180000 [==============================] - 148s 823us/step - loss: 9.6683 - acc: 0.7396 - val_loss: 0.0307 - val_acc: 0.9903\n",
      "\n",
      "Epoch 00001: val_acc improved from -inf to 0.99029, saving model to shifting_cipher_62x10_best_model.h5\n",
      "Epoch 2/5\n",
      "180000/180000 [==============================] - 185s 1ms/step - loss: 0.1573 - acc: 0.9550 - val_loss: 0.0345 - val_acc: 0.9635\n",
      "\n",
      "Epoch 00002: val_acc did not improve from 0.99029\n",
      "Epoch 3/5\n",
      "180000/180000 [==============================] - 173s 961us/step - loss: 0.0334 - acc: 0.9798 - val_loss: 0.0237 - val_acc: 0.9959\n",
      "\n",
      "Epoch 00003: val_acc improved from 0.99029 to 0.99588, saving model to shifting_cipher_62x10_best_model.h5\n",
      "Epoch 4/5\n",
      "180000/180000 [==============================] - 167s 929us/step - loss: 0.0237 - acc: 0.9870 - val_loss: 0.0033 - val_acc: 1.0000\n",
      "\n",
      "Epoch 00004: val_acc improved from 0.99588 to 1.00000, saving model to shifting_cipher_62x10_best_model.h5\n",
      "Epoch 5/5\n",
      "180000/180000 [==============================] - 169s 937us/step - loss: 0.0180 - acc: 0.9907 - val_loss: 0.0067 - val_acc: 0.9973\n",
      "\n",
      "Epoch 00005: val_acc did not improve from 1.00000\n"
     ]
    },
    {
     "data": {
      "text/plain": [
       "<keras.callbacks.History at 0x1653474c710>"
      ]
     },
     "execution_count": 5,
     "metadata": {},
     "output_type": "execute_result"
    }
   ],
   "source": [
    "callbacks = [\n",
    "    EarlyStopping(monitor='val_loss', min_delta=1e-3, patience=3, verbose=1, mode='min'),\n",
    "    ModelCheckpoint(model_path, monitor='val_acc', verbose=1, save_best_only=True, mode='max')\n",
    "]\n",
    "model.compile(loss='mse', optimizer='adam', metrics=['accuracy'])\n",
    "model.fit(train_cipher, train_text, validation_split=.1, batch_size=10, epochs=5, callbacks=callbacks)"
   ]
  },
  {
   "cell_type": "markdown",
   "metadata": {},
   "source": [
    "### Predicting and Evaluating the Model"
   ]
  },
  {
   "cell_type": "code",
   "execution_count": 6,
   "metadata": {},
   "outputs": [],
   "source": [
    "model = load_model(model_path)"
   ]
  },
  {
   "cell_type": "code",
   "execution_count": 7,
   "metadata": {},
   "outputs": [
    {
     "name": "stdout",
     "output_type": "stream",
     "text": [
      "Model predicted that original text is: HelloWorld\n",
      "Test cipher vs encrypted prediction: elloWorldH vs elloWorldH\n"
     ]
    }
   ],
   "source": [
    "test_cyhper = encrypt('HelloWorld')\n",
    "prediction = to_txt(model.predict(to_vec(test_cyhper)))\n",
    "\n",
    "print('Model predicted that original text is:', prediction)\n",
    "print('Test cipher vs encrypted prediction:', test_cyhper, 'vs', encrypt(prediction))"
   ]
  }
 ],
 "metadata": {
  "kernelspec": {
   "display_name": "Python 3",
   "language": "python",
   "name": "python3"
  },
  "language_info": {
   "codemirror_mode": {
    "name": "ipython",
    "version": 3
   },
   "file_extension": ".py",
   "mimetype": "text/x-python",
   "name": "python",
   "nbconvert_exporter": "python",
   "pygments_lexer": "ipython3",
   "version": "3.6.7"
  }
 },
 "nbformat": 4,
 "nbformat_minor": 2
}
