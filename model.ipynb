{
 "cells": [
  {
   "cell_type": "markdown",
   "metadata": {},
   "source": [
    "### Imports"
   ]
  },
  {
   "cell_type": "code",
   "execution_count": 1,
   "metadata": {},
   "outputs": [
    {
     "name": "stderr",
     "output_type": "stream",
     "text": [
      "Using TensorFlow backend.\n"
     ]
    }
   ],
   "source": [
    "from keras.callbacks import EarlyStopping, ModelCheckpoint\n",
    "from keras.models import Sequential, load_model\n",
    "from keras.layers.recurrent import GRU\n",
    "from keras.layers import Dense, LSTM, Bidirectional\n",
    "\n",
    "from encrypt import *\n",
    "from tools import *\n",
    "import string"
   ]
  },
  {
   "cell_type": "markdown",
   "metadata": {},
   "source": [
    "### Configurations"
   ]
  },
  {
   "cell_type": "code",
   "execution_count": 2,
   "metadata": {},
   "outputs": [],
   "source": [
    "letters = string.ascii_uppercase\n",
    "encrypt = shifting_cipher\n",
    "samples_count = 100000\n",
    "text_length = 5\n",
    "\n",
    "set_characters(letters)\n",
    "model_path = f\"{encrypt.__name__}_{len(letters)}x{text_length}_best_model.h5\""
   ]
  },
  {
   "cell_type": "markdown",
   "metadata": {},
   "source": [
    "### Generating and Preparing Data"
   ]
  },
  {
   "cell_type": "code",
   "execution_count": 3,
   "metadata": {},
   "outputs": [],
   "source": [
    "text = generate_text(text_length, samples_count)\n",
    "\n",
    "train_cipher = to_vec(map(encrypt, text))\n",
    "train_text = to_vec(text)"
   ]
  },
  {
   "cell_type": "markdown",
   "metadata": {},
   "source": [
    "### Building and Training the Model"
   ]
  },
  {
   "cell_type": "code",
   "execution_count": 4,
   "metadata": {},
   "outputs": [
    {
     "name": "stdout",
     "output_type": "stream",
     "text": [
      "_________________________________________________________________\n",
      "Layer (type)                 Output Shape              Param #   \n",
      "=================================================================\n",
      "bidirectional_1 (Bidirection (None, 5, 256)            99840     \n",
      "_________________________________________________________________\n",
      "dense_1 (Dense)              (None, 5, 1)              257       \n",
      "=================================================================\n",
      "Total params: 100,097\n",
      "Trainable params: 100,097\n",
      "Non-trainable params: 0\n",
      "_________________________________________________________________\n"
     ]
    }
   ],
   "source": [
    "model = Sequential()\n",
    "model.add(Bidirectional(GRU(128, return_sequences=True), input_shape=train_cipher.shape[1:]))\n",
    "model.add(Dense(1))\n",
    "model.summary()"
   ]
  },
  {
   "cell_type": "code",
   "execution_count": 5,
   "metadata": {},
   "outputs": [
    {
     "name": "stdout",
     "output_type": "stream",
     "text": [
      "Train on 90000 samples, validate on 10000 samples\n",
      "Epoch 1/5\n",
      "90000/90000 [==============================] - 307s 3ms/step - loss: 36.7157 - acc: 0.3281 - val_loss: 8.8477 - val_acc: 0.3159\n",
      "\n",
      "Epoch 00001: val_acc improved from -inf to 0.31594, saving model to shifting_cipher_26x5_best_model.h5\n",
      "Epoch 2/5\n",
      "90000/90000 [==============================] - 56s 624us/step - loss: 1.6294 - acc: 0.7774 - val_loss: 0.0379 - val_acc: 0.9952\n",
      "\n",
      "Epoch 00002: val_acc improved from 0.31594 to 0.99520, saving model to shifting_cipher_26x5_best_model.h5\n",
      "Epoch 3/5\n",
      "90000/90000 [==============================] - 54s 595us/step - loss: 0.0275 - acc: 0.9926 - val_loss: 0.0260 - val_acc: 0.9996\n",
      "\n",
      "Epoch 00003: val_acc improved from 0.99520 to 0.99958, saving model to shifting_cipher_26x5_best_model.h5\n",
      "Epoch 4/5\n",
      "90000/90000 [==============================] - 55s 610us/step - loss: 0.0209 - acc: 0.9967 - val_loss: 0.0091 - val_acc: 1.0000\n",
      "\n",
      "Epoch 00004: val_acc improved from 0.99958 to 1.00000, saving model to shifting_cipher_26x5_best_model.h5\n",
      "Epoch 5/5\n",
      "90000/90000 [==============================] - 54s 603us/step - loss: 0.0185 - acc: 0.9975 - val_loss: 0.0087 - val_acc: 1.0000\n",
      "\n",
      "Epoch 00005: val_acc did not improve from 1.00000\n"
     ]
    },
    {
     "data": {
      "text/plain": [
       "<keras.callbacks.History at 0x242b0ce0438>"
      ]
     },
     "execution_count": 5,
     "metadata": {},
     "output_type": "execute_result"
    }
   ],
   "source": [
    "callbacks = [\n",
    "    EarlyStopping(monitor='val_loss', min_delta=1e-3, patience=3, verbose=1, mode='min'),\n",
    "    ModelCheckpoint(model_path, monitor='val_acc', verbose=1, save_best_only=True, mode='max')\n",
    "]\n",
    "model.compile(loss='mse', optimizer='adam', metrics=['accuracy'])\n",
    "model.fit(train_cipher, train_text, validation_split=.1, batch_size=10, epochs=5, callbacks=callbacks)"
   ]
  },
  {
   "cell_type": "markdown",
   "metadata": {},
   "source": [
    "### Predicting and Evaluating the Model"
   ]
  },
  {
   "cell_type": "code",
   "execution_count": 6,
   "metadata": {},
   "outputs": [],
   "source": [
    "model = load_model(model_path)"
   ]
  },
  {
   "cell_type": "code",
   "execution_count": 7,
   "metadata": {},
   "outputs": [
    {
     "name": "stdout",
     "output_type": "stream",
     "text": [
      "Model predicted that original text is: ABCDE\n",
      "Test cipher vs encrypted prediction: BCDEA vs BCDEA\n"
     ]
    }
   ],
   "source": [
    "test_cyhper = 'BCDEA'\n",
    "prediction = to_txt(model.predict(to_vec(test_cyhper)))\n",
    "\n",
    "print('Model predicted that original text is:', prediction)\n",
    "print('Test cipher vs encrypted prediction:', test_cyhper, 'vs', encrypt(prediction))"
   ]
  }
 ],
 "metadata": {
  "kernelspec": {
   "display_name": "Python 3",
   "language": "python",
   "name": "python3"
  },
  "language_info": {
   "codemirror_mode": {
    "name": "ipython",
    "version": 3
   },
   "file_extension": ".py",
   "mimetype": "text/x-python",
   "name": "python",
   "nbconvert_exporter": "python",
   "pygments_lexer": "ipython3",
   "version": "3.6.7"
  }
 },
 "nbformat": 4,
 "nbformat_minor": 2
}
