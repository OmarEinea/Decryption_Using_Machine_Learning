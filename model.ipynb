{
 "cells": [
  {
   "cell_type": "markdown",
   "metadata": {},
   "source": [
    "### Imports"
   ]
  },
  {
   "cell_type": "code",
   "execution_count": 1,
   "metadata": {},
   "outputs": [
    {
     "name": "stderr",
     "output_type": "stream",
     "text": [
      "Using TensorFlow backend.\n"
     ]
    }
   ],
   "source": [
    "from keras.callbacks import EarlyStopping, ModelCheckpoint\n",
    "from keras.models import Sequential, load_model\n",
    "from keras.layers.recurrent import GRU\n",
    "from keras.layers import Dense, LSTM\n",
    "\n",
    "from encrypt import *\n",
    "from tools import *\n",
    "import string"
   ]
  },
  {
   "cell_type": "markdown",
   "metadata": {},
   "source": [
    "### Configurations"
   ]
  },
  {
   "cell_type": "code",
   "execution_count": 2,
   "metadata": {},
   "outputs": [],
   "source": [
    "letters = string.ascii_uppercase\n",
    "encrypt = vigenere_cipher\n",
    "samples_count = 1000000\n",
    "text_length = 5\n",
    "\n",
    "set_characters(letters)\n",
    "model_path = f'{encrypt.__name__}_{len(letters)}x{text_length}_best_model.h5'"
   ]
  },
  {
   "cell_type": "code",
   "execution_count": 13,
   "metadata": {
    "scrolled": true
   },
   "outputs": [
    {
     "data": {
      "text/plain": [
       "'vigenere_cipher_26x5_best_model.h5'"
      ]
     },
     "execution_count": 13,
     "metadata": {},
     "output_type": "execute_result"
    }
   ],
   "source": [
    "model_path"
   ]
  },
  {
   "cell_type": "markdown",
   "metadata": {},
   "source": [
    "### Generating and Preparing Data"
   ]
  },
  {
   "cell_type": "code",
   "execution_count": 3,
   "metadata": {},
   "outputs": [],
   "source": [
    "text = generate_text(text_length, samples_count)\n",
    "\n",
    "train_cipher = to_vec(map(encrypt, text))\n",
    "train_text = to_vec(text)"
   ]
  },
  {
   "cell_type": "markdown",
   "metadata": {},
   "source": [
    "### Building and Training the Model"
   ]
  },
  {
   "cell_type": "code",
   "execution_count": 4,
   "metadata": {},
   "outputs": [],
   "source": [
    "model = Sequential()\n",
    "model.add(GRU(128, activation='relu', input_shape=train_cipher.shape[1:], return_sequences=True))\n",
    "model.add(GRU(128, activation='relu', return_sequences=True))\n",
    "model.add(Dense(64, activation='relu'))\n",
    "model.add(Dense(1))"
   ]
  },
  {
   "cell_type": "code",
   "execution_count": 5,
   "metadata": {},
   "outputs": [],
   "source": [
    "model.compile(loss='mean_squared_error', optimizer='adam', metrics=['accuracy'])\n",
    "callbacks = [\n",
    "    EarlyStopping(monitor='val_loss', min_delta=1e-3, patience=3, verbose=1, mode='auto'),\n",
    "    ModelCheckpoint(model_path, monitor='val_acc', verbose=1, save_best_only=True, mode='max')\n",
    "]"
   ]
  },
  {
   "cell_type": "code",
   "execution_count": 6,
   "metadata": {},
   "outputs": [
    {
     "name": "stdout",
     "output_type": "stream",
     "text": [
      "Train on 900000 samples, validate on 100000 samples\n",
      "Epoch 1/5\n",
      "900000/900000 [==============================] - 776s 862us/step - loss: 6.4972 - acc: 0.5658 - val_loss: 0.3696 - val_acc: 0.9081\n",
      "\n",
      "Epoch 00001: val_acc improved from -inf to 0.90814, saving model to vigenere_cipher_26x5_best_model.h5\n",
      "Epoch 2/5\n",
      "900000/900000 [==============================] - 773s 859us/step - loss: 4.1492 - acc: 0.6967 - val_loss: 12.7690 - val_acc: 0.4949\n",
      "\n",
      "Epoch 00002: val_acc did not improve from 0.90814\n",
      "Epoch 3/5\n",
      "900000/900000 [==============================] - 751s 834us/step - loss: 3.4624 - acc: 0.7915 - val_loss: 0.0119 - val_acc: 0.9998\n",
      "\n",
      "Epoch 00003: val_acc improved from 0.90814 to 0.99981, saving model to vigenere_cipher_26x5_best_model.h5\n",
      "Epoch 4/5\n",
      "900000/900000 [==============================] - 733s 815us/step - loss: 2.1978 - acc: 0.8679 - val_loss: 0.2687 - val_acc: 0.9050\n",
      "\n",
      "Epoch 00004: val_acc did not improve from 0.99981\n",
      "Epoch 5/5\n",
      "900000/900000 [==============================] - 776s 862us/step - loss: 1.1113 - acc: 0.9490 - val_loss: 3.5406 - val_acc: 0.9544\n",
      "\n",
      "Epoch 00005: val_acc did not improve from 0.99981\n"
     ]
    },
    {
     "data": {
      "text/plain": [
       "<keras.callbacks.History at 0x223957966d8>"
      ]
     },
     "execution_count": 6,
     "metadata": {},
     "output_type": "execute_result"
    }
   ],
   "source": [
    "model.fit(train_cipher, train_text, validation_split=.1, batch_size=10, epochs=5, callbacks=callbacks)"
   ]
  },
  {
   "cell_type": "markdown",
   "metadata": {},
   "source": [
    "### Predicting and Evaluating the Model"
   ]
  },
  {
   "cell_type": "code",
   "execution_count": 7,
   "metadata": {},
   "outputs": [],
   "source": [
    "model = load_model(model_path)"
   ]
  },
  {
   "cell_type": "code",
   "execution_count": 8,
   "metadata": {},
   "outputs": [
    {
     "name": "stdout",
     "output_type": "stream",
     "text": [
      "Model predicted that original text is: SECUR\n",
      "Test cipher vs encrypted prediction: TGFYW vs TGFYW\n"
     ]
    }
   ],
   "source": [
    "test_cyhper = 'TGFYW'\n",
    "prediction = to_txt(model.predict(to_vec(test_cyhper)))\n",
    "\n",
    "print('Model predicted that original text is:', prediction)\n",
    "print('Test cipher vs encrypted prediction:', test_cyhper, 'vs', encrypt(prediction))"
   ]
  }
 ],
 "metadata": {
  "kernelspec": {
   "display_name": "Python 3",
   "language": "python",
   "name": "python3"
  },
  "language_info": {
   "codemirror_mode": {
    "name": "ipython",
    "version": 3
   },
   "file_extension": ".py",
   "mimetype": "text/x-python",
   "name": "python",
   "nbconvert_exporter": "python",
   "pygments_lexer": "ipython3",
   "version": "3.6.7"
  }
 },
 "nbformat": 4,
 "nbformat_minor": 2
}
