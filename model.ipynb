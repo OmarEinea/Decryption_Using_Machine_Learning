{
 "cells": [
  {
   "cell_type": "markdown",
   "metadata": {},
   "source": [
    "### Imports"
   ]
  },
  {
   "cell_type": "code",
   "execution_count": 1,
   "metadata": {},
   "outputs": [
    {
     "name": "stderr",
     "output_type": "stream",
     "text": [
      "Using TensorFlow backend.\n"
     ]
    }
   ],
   "source": [
    "from keras.callbacks import EarlyStopping, ModelCheckpoint\n",
    "from keras.models import Sequential, load_model\n",
    "from keras.layers import Dense, Bidirectional\n",
    "from keras.layers.recurrent import GRU\n",
    "\n",
    "from encrypt import *\n",
    "from tools import *\n",
    "import string"
   ]
  },
  {
   "cell_type": "markdown",
   "metadata": {},
   "source": [
    "### Configurations"
   ]
  },
  {
   "cell_type": "code",
   "execution_count": 2,
   "metadata": {},
   "outputs": [],
   "source": [
    "letters = string.printable.split('!')[0]\n",
    "encrypt = fernet_cipher('0')\n",
    "samples_count = 500000\n",
    "text_length = 10\n",
    "\n",
    "set_characters(letters)\n",
    "model_path = f'models/{encrypt.name}_{len(letters)}x{text_length}_best_model.h5'"
   ]
  },
  {
   "cell_type": "markdown",
   "metadata": {},
   "source": [
    "### Generating and Preparing Data"
   ]
  },
  {
   "cell_type": "code",
   "execution_count": 3,
   "metadata": {},
   "outputs": [],
   "source": [
    "text = generate_text(text_length, samples_count)\n",
    "cipher = list(map(encrypt, text))\n",
    "\n",
    "train_text = to_vec(text)\n",
    "train_cipher = to_vec(cipher)"
   ]
  },
  {
   "cell_type": "markdown",
   "metadata": {},
   "source": [
    "### Building and Training the Model"
   ]
  },
  {
   "cell_type": "code",
   "execution_count": 4,
   "metadata": {},
   "outputs": [
    {
     "name": "stdout",
     "output_type": "stream",
     "text": [
      "_________________________________________________________________\n",
      "Layer (type)                 Output Shape              Param #   \n",
      "=================================================================\n",
      "bidirectional_5 (Bidirection (None, 100, 256)          99840     \n",
      "_________________________________________________________________\n",
      "bidirectional_6 (Bidirection (None, 128)               123264    \n",
      "_________________________________________________________________\n",
      "dense_3 (Dense)              (None, 10)                1290      \n",
      "=================================================================\n",
      "Total params: 224,394\n",
      "Trainable params: 224,394\n",
      "Non-trainable params: 0\n",
      "_________________________________________________________________\n"
     ]
    }
   ],
   "source": [
    "model = Sequential()\n",
    "model.add(Bidirectional(GRU(128, activation='relu', return_sequences=True), input_shape=train_cipher.shape[1:]))\n",
    "model.add(Bidirectional(GRU(64, activation='relu')))\n",
    "model.add(Dense(text_length, activation='linear'))\n",
    "model.summary()"
   ]
  },
  {
   "cell_type": "code",
   "execution_count": 5,
   "metadata": {},
   "outputs": [
    {
     "name": "stdout",
     "output_type": "stream",
     "text": [
      "Train on 450000 samples, validate on 50000 samples\n",
      "Epoch 1/10\n",
      "450000/450000 [==============================] - 6452s 14ms/step - loss: 321.8115 - acc: 0.1000 - val_loss: 320.6026 - val_acc: 0.1021\n",
      "\n",
      "Epoch 00001: val_acc improved from -inf to 0.10210, saving model to models/fernet_cipher_62x10_best_model.h5\n",
      "Epoch 2/10\n",
      "450000/450000 [==============================] - 6450s 14ms/step - loss: 320.9975 - acc: 0.0998 - val_loss: 320.3492 - val_acc: 0.1071\n",
      "\n",
      "Epoch 00002: val_acc improved from 0.10210 to 0.10706, saving model to models/fernet_cipher_62x10_best_model.h5\n",
      "Epoch 3/10\n",
      "450000/450000 [==============================] - 6432s 14ms/step - loss: 320.8053 - acc: 0.1000 - val_loss: 320.4433 - val_acc: 0.1046\n",
      "\n",
      "Epoch 00003: val_acc did not improve from 0.10706\n"
     ]
    }
   ],
   "source": [
    "callbacks = [\n",
    "    EarlyStopping(monitor='val_loss', min_delta=1e-3, patience=3, verbose=1, mode='min'),\n",
    "    ModelCheckpoint(model_path, monitor='val_acc', verbose=1, save_best_only=True, mode='max')\n",
    "]\n",
    "model.compile(loss='mse', optimizer='adam', metrics=['accuracy'])\n",
    "model.fit(train_cipher, train_text, validation_split=.1, batch_size=10, epochs=10, callbacks=callbacks)"
   ]
  },
  {
   "cell_type": "markdown",
   "metadata": {},
   "source": [
    "### Predicting and Evaluating the Model"
   ]
  },
  {
   "cell_type": "code",
   "execution_count": 6,
   "metadata": {},
   "outputs": [],
   "source": [
    "model = load_model(model_path)"
   ]
  },
  {
   "cell_type": "code",
   "execution_count": 7,
   "metadata": {},
   "outputs": [
    {
     "name": "stdout",
     "output_type": "stream",
     "text": [
      "Model predicted that original text is: vvuuuuuuuu\n",
      "\n",
      "Test cipher vs encrypted prediction:\n",
      "gAAAAABcB9c2ZYS-t1augSIUb8hO8YG6WYpNbM9xHp-gQ-SeNTX9FEUrE3hVlwK3BzCcbC67Ri49Nl_AmV2BJMcGkhOG9AgStQ==\n",
      "gAAAAABcB9c2imYAwmS9sEDQ5d7bQPAKEE-_OJjMskis5_UvUdQazYx0Sn76pcFRV43X6OllANO3BCE_IUIn53hNBKIuWQjINw==\n"
     ]
    }
   ],
   "source": [
    "test_cyhper = encrypt('HelloWorld')\n",
    "prediction = to_txt(model.predict(to_vec(test_cyhper)))\n",
    "\n",
    "print('Model predicted that original text is:', prediction)\n",
    "print(f'\\nTest cipher vs encrypted prediction:\\n{test_cyhper}\\n{encrypt(prediction)}')"
   ]
  }
 ],
 "metadata": {
  "kernelspec": {
   "display_name": "Python 3",
   "language": "python",
   "name": "python3"
  },
  "language_info": {
   "codemirror_mode": {
    "name": "ipython",
    "version": 3
   },
   "file_extension": ".py",
   "mimetype": "text/x-python",
   "name": "python",
   "nbconvert_exporter": "python",
   "pygments_lexer": "ipython3",
   "version": "3.6.7"
  }
 },
 "nbformat": 4,
 "nbformat_minor": 2
}
