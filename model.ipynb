{
 "cells": [
  {
   "cell_type": "markdown",
   "metadata": {},
   "source": [
    "### Imports"
   ]
  },
  {
   "cell_type": "code",
   "execution_count": 1,
   "metadata": {},
   "outputs": [
    {
     "name": "stderr",
     "output_type": "stream",
     "text": [
      "Using TensorFlow backend.\n"
     ]
    }
   ],
   "source": [
    "from keras.callbacks import EarlyStopping, ModelCheckpoint\n",
    "from keras.models import Sequential, load_model\n",
    "from keras.layers import Dense, Bidirectional\n",
    "from keras.layers.recurrent import GRU\n",
    "\n",
    "from encrypt import *\n",
    "from tools import *\n",
    "import string"
   ]
  },
  {
   "cell_type": "markdown",
   "metadata": {},
   "source": [
    "### Configurations"
   ]
  },
  {
   "cell_type": "code",
   "execution_count": 2,
   "metadata": {},
   "outputs": [],
   "source": [
    "letters = string.printable.split('!')[0]\n",
    "encrypt = transposition_cipher('25741863')\n",
    "samples_count = 200000\n",
    "text_length = 8\n",
    "\n",
    "set_characters(letters)\n",
    "model_path = f'models/{encrypt.name}_{len(letters)}x{text_length}_best_model.h5'"
   ]
  },
  {
   "cell_type": "markdown",
   "metadata": {},
   "source": [
    "### Generating and Preparing Data"
   ]
  },
  {
   "cell_type": "code",
   "execution_count": 3,
   "metadata": {},
   "outputs": [],
   "source": [
    "text = generate_text(text_length, samples_count)\n",
    "cipher = list(map(encrypt, text))\n",
    "\n",
    "train_text = to_vec(text)\n",
    "train_cipher = to_vec(cipher)"
   ]
  },
  {
   "cell_type": "markdown",
   "metadata": {},
   "source": [
    "### Building and Training the Model"
   ]
  },
  {
   "cell_type": "code",
   "execution_count": 4,
   "metadata": {},
   "outputs": [
    {
     "name": "stdout",
     "output_type": "stream",
     "text": [
      "_________________________________________________________________\n",
      "Layer (type)                 Output Shape              Param #   \n",
      "=================================================================\n",
      "bidirectional_1 (Bidirection (None, 8, 256)            99840     \n",
      "_________________________________________________________________\n",
      "dense_1 (Dense)              (None, 8, 1)              257       \n",
      "=================================================================\n",
      "Total params: 100,097\n",
      "Trainable params: 100,097\n",
      "Non-trainable params: 0\n",
      "_________________________________________________________________\n"
     ]
    }
   ],
   "source": [
    "model = Sequential()\n",
    "model.add(Bidirectional(GRU(128, activation='relu', return_sequences=True), input_shape=train_cipher.shape[1:]))\n",
    "model.add(Dense(1, activation='linear'))\n",
    "model.summary()"
   ]
  },
  {
   "cell_type": "code",
   "execution_count": 5,
   "metadata": {},
   "outputs": [
    {
     "name": "stdout",
     "output_type": "stream",
     "text": [
      "Train on 180000 samples, validate on 20000 samples\n",
      "Epoch 1/5\n",
      "180000/180000 [==============================] - 148s 821us/step - loss: 6.4031 - acc: 0.7031 - val_loss: 0.0453 - val_acc: 0.9760\n",
      "\n",
      "Epoch 00001: val_acc improved from -inf to 0.97597, saving model to models/transposition_cipher_62x8_best_model.h5\n",
      "Epoch 2/5\n",
      "180000/180000 [==============================] - 147s 818us/step - loss: 0.0513 - acc: 0.9619 - val_loss: 0.0091 - val_acc: 0.9997\n",
      "\n",
      "Epoch 00002: val_acc improved from 0.97597 to 0.99968, saving model to models/transposition_cipher_62x8_best_model.h5\n",
      "Epoch 3/5\n",
      "180000/180000 [==============================] - 145s 808us/step - loss: 0.0301 - acc: 0.9825 - val_loss: 0.0035 - val_acc: 0.9999\n",
      "\n",
      "Epoch 00003: val_acc improved from 0.99968 to 0.99994, saving model to models/transposition_cipher_62x8_best_model.h5\n",
      "Epoch 4/5\n",
      "180000/180000 [==============================] - 146s 811us/step - loss: 0.0230 - acc: 0.9895 - val_loss: 0.0031 - val_acc: 0.9999\n",
      "\n",
      "Epoch 00004: val_acc did not improve from 0.99994\n",
      "Epoch 5/5\n",
      "180000/180000 [==============================] - 146s 813us/step - loss: 0.0168 - acc: 0.9943 - val_loss: 0.0092 - val_acc: 0.9998\n",
      "\n",
      "Epoch 00005: val_acc did not improve from 0.99994\n"
     ]
    },
    {
     "data": {
      "text/plain": [
       "<keras.callbacks.History at 0x21247e79f98>"
      ]
     },
     "execution_count": 5,
     "metadata": {},
     "output_type": "execute_result"
    }
   ],
   "source": [
    "callbacks = [\n",
    "    EarlyStopping(monitor='val_loss', min_delta=1e-3, patience=3, verbose=1, mode='min'),\n",
    "    ModelCheckpoint(model_path, monitor='val_acc', verbose=1, save_best_only=True, mode='max')\n",
    "]\n",
    "model.compile(loss='mse', optimizer='adam', metrics=['accuracy'])\n",
    "model.fit(train_cipher, train_text, validation_split=.1, batch_size=10, epochs=5, callbacks=callbacks)"
   ]
  },
  {
   "cell_type": "markdown",
   "metadata": {},
   "source": [
    "### Predicting and Evaluating the Model"
   ]
  },
  {
   "cell_type": "code",
   "execution_count": 6,
   "metadata": {},
   "outputs": [],
   "source": [
    "model = load_model(model_path)"
   ]
  },
  {
   "cell_type": "code",
   "execution_count": 7,
   "metadata": {},
   "outputs": [
    {
     "name": "stdout",
     "output_type": "stream",
     "text": [
      "Model predicted that original text is: HeyHello\n",
      "Test cipher vs encrypted prediction: lHeeoHyl vs lHeeoHyl\n"
     ]
    }
   ],
   "source": [
    "test_cyhper = encrypt('HeyHello')\n",
    "prediction = to_txt(model.predict(to_vec(test_cyhper)))\n",
    "\n",
    "print('Model predicted that original text is:', prediction)\n",
    "print('Test cipher vs encrypted prediction:', test_cyhper, 'vs', encrypt(prediction))"
   ]
  }
 ],
 "metadata": {
  "kernelspec": {
   "display_name": "Python 3",
   "language": "python",
   "name": "python3"
  },
  "language_info": {
   "codemirror_mode": {
    "name": "ipython",
    "version": 3
   },
   "file_extension": ".py",
   "mimetype": "text/x-python",
   "name": "python",
   "nbconvert_exporter": "python",
   "pygments_lexer": "ipython3",
   "version": "3.6.7"
  }
 },
 "nbformat": 4,
 "nbformat_minor": 2
}
