{
 "cells": [
  {
   "cell_type": "markdown",
   "metadata": {},
   "source": [
    "### Imports"
   ]
  },
  {
   "cell_type": "code",
   "execution_count": 1,
   "metadata": {},
   "outputs": [
    {
     "name": "stderr",
     "output_type": "stream",
     "text": [
      "Using TensorFlow backend.\n"
     ]
    }
   ],
   "source": [
    "from keras.callbacks import EarlyStopping, ModelCheckpoint\n",
    "from keras.models import Sequential, load_model\n",
    "from keras.layers import Dense, Bidirectional\n",
    "from keras.layers.recurrent import GRU\n",
    "\n",
    "from encrypt import *\n",
    "from tools import *\n",
    "import string"
   ]
  },
  {
   "cell_type": "markdown",
   "metadata": {},
   "source": [
    "### Configurations"
   ]
  },
  {
   "cell_type": "code",
   "execution_count": 2,
   "metadata": {},
   "outputs": [],
   "source": [
    "def italy_vigenere_cipher(string):\n",
    "    return vigenere_cipher(string, 'ITALY')\n",
    "\n",
    "letters = string.printable.split('!')[0]\n",
    "encrypt = italy_vigenere_cipher\n",
    "samples_count = 1000000\n",
    "text_length = 10\n",
    "\n",
    "set_characters(letters)\n",
    "model_path = f\"models/{encrypt.__name__}_{len(letters)}x{text_length}_best_model.h5\""
   ]
  },
  {
   "cell_type": "markdown",
   "metadata": {},
   "source": [
    "### Generating and Preparing Data"
   ]
  },
  {
   "cell_type": "code",
   "execution_count": 3,
   "metadata": {},
   "outputs": [],
   "source": [
    "text = generate_text(text_length, samples_count)\n",
    "cipher = list(map(encrypt, text))\n",
    "\n",
    "train_text = to_vec(text)\n",
    "train_cipher = to_vec(cipher)"
   ]
  },
  {
   "cell_type": "markdown",
   "metadata": {},
   "source": [
    "### Building and Training the Model"
   ]
  },
  {
   "cell_type": "code",
   "execution_count": 4,
   "metadata": {},
   "outputs": [
    {
     "name": "stdout",
     "output_type": "stream",
     "text": [
      "_________________________________________________________________\n",
      "Layer (type)                 Output Shape              Param #   \n",
      "=================================================================\n",
      "bidirectional_1 (Bidirection (None, 10, 256)           99840     \n",
      "_________________________________________________________________\n",
      "dense_1 (Dense)              (None, 10, 1)             257       \n",
      "=================================================================\n",
      "Total params: 100,097\n",
      "Trainable params: 100,097\n",
      "Non-trainable params: 0\n",
      "_________________________________________________________________\n"
     ]
    }
   ],
   "source": [
    "model = Sequential()\n",
    "model.add(Bidirectional(GRU(128, activation='relu', return_sequences=True), input_shape=train_cipher.shape[1:]))\n",
    "model.add(Dense(1, activation='linear'))\n",
    "model.summary()"
   ]
  },
  {
   "cell_type": "code",
   "execution_count": 5,
   "metadata": {},
   "outputs": [
    {
     "name": "stdout",
     "output_type": "stream",
     "text": [
      "Train on 900000 samples, validate on 100000 samples\n",
      "Epoch 1/100\n",
      "900000/900000 [==============================] - 799s 888us/step - loss: 31.7704 - acc: 0.4539 - val_loss: 42.2128 - val_acc: 0.2436\n",
      "\n",
      "Epoch 00001: val_acc improved from -inf to 0.24360, saving model to models/italy_vigenere_cipher_62x10_best_model.h5\n",
      "Epoch 2/100\n",
      "900000/900000 [==============================] - 782s 868us/step - loss: 16.2988 - acc: 0.5811 - val_loss: 6.2746 - val_acc: 0.7302\n",
      "\n",
      "Epoch 00002: val_acc improved from 0.24360 to 0.73021, saving model to models/italy_vigenere_cipher_62x10_best_model.h5\n",
      "Epoch 3/100\n",
      "900000/900000 [==============================] - 785s 872us/step - loss: 13.3163 - acc: 0.6096 - val_loss: 9.7335 - val_acc: 0.6553\n",
      "\n",
      "Epoch 00003: val_acc did not improve from 0.73021\n",
      "Epoch 4/100\n",
      "900000/900000 [==============================] - 787s 874us/step - loss: 11.0175 - acc: 0.6329 - val_loss: 2.2226 - val_acc: 0.8644\n",
      "\n",
      "Epoch 00004: val_acc improved from 0.73021 to 0.86442, saving model to models/italy_vigenere_cipher_62x10_best_model.h5\n",
      "Epoch 5/100\n",
      "900000/900000 [==============================] - 792s 880us/step - loss: 9.6894 - acc: 0.6609 - val_loss: 7.0373 - val_acc: 0.6996\n",
      "\n",
      "Epoch 00005: val_acc did not improve from 0.86442\n",
      "Epoch 6/100\n",
      "900000/900000 [==============================] - 790s 878us/step - loss: 8.2280 - acc: 0.7048 - val_loss: 3.6491 - val_acc: 0.8516\n",
      "\n",
      "Epoch 00006: val_acc did not improve from 0.86442\n",
      "Epoch 7/100\n",
      "900000/900000 [==============================] - 793s 881us/step - loss: 7.4354 - acc: 0.7305 - val_loss: 21.0270 - val_acc: 0.6426\n",
      "\n",
      "Epoch 00007: val_acc did not improve from 0.86442\n",
      "Epoch 8/100\n",
      "900000/900000 [==============================] - 795s 883us/step - loss: 7.7484 - acc: 0.7104 - val_loss: 0.1437 - val_acc: 0.9711\n",
      "\n",
      "Epoch 00008: val_acc improved from 0.86442 to 0.97106, saving model to models/italy_vigenere_cipher_62x10_best_model.h5\n",
      "Epoch 9/100\n",
      "900000/900000 [==============================] - 800s 889us/step - loss: 8.9399 - acc: 0.7085 - val_loss: 1.6962 - val_acc: 0.7757\n",
      "\n",
      "Epoch 00009: val_acc did not improve from 0.97106\n",
      "Epoch 10/100\n",
      "900000/900000 [==============================] - 807s 897us/step - loss: 7.0022 - acc: 0.7508 - val_loss: 1.9987 - val_acc: 0.8481\n",
      "\n",
      "Epoch 00010: val_acc did not improve from 0.97106\n",
      "Epoch 11/100\n",
      "900000/900000 [==============================] - 816s 907us/step - loss: 6.5194 - acc: 0.7856 - val_loss: 2.7657 - val_acc: 0.9260\n",
      "\n",
      "Epoch 00011: val_acc did not improve from 0.97106\n",
      "Epoch 12/100\n",
      "900000/900000 [==============================] - 819s 910us/step - loss: 6.2240 - acc: 0.7883 - val_loss: 2.4553 - val_acc: 0.8251\n",
      "\n",
      "Epoch 00012: val_acc did not improve from 0.97106\n",
      "Epoch 13/100\n",
      "900000/900000 [==============================] - 821s 912us/step - loss: 5.9491 - acc: 0.7937 - val_loss: 5.0856 - val_acc: 0.8332\n",
      "\n",
      "Epoch 00013: val_acc did not improve from 0.97106\n",
      "Epoch 14/100\n",
      "900000/900000 [==============================] - 832s 925us/step - loss: 5.6876 - acc: 0.8082 - val_loss: 0.3102 - val_acc: 0.8762\n",
      "\n",
      "Epoch 00014: val_acc did not improve from 0.97106\n",
      "Epoch 15/100\n",
      "900000/900000 [==============================] - 825s 917us/step - loss: 5.4001 - acc: 0.8231 - val_loss: 1.5310 - val_acc: 0.9378\n",
      "\n",
      "Epoch 00015: val_acc did not improve from 0.97106\n",
      "Epoch 16/100\n",
      "900000/900000 [==============================] - 828s 919us/step - loss: 4.7401 - acc: 0.8403 - val_loss: 0.1437 - val_acc: 0.9570\n",
      "\n",
      "Epoch 00016: val_acc did not improve from 0.97106\n",
      "Epoch 17/100\n",
      "900000/900000 [==============================] - 829s 921us/step - loss: 4.3461 - acc: 0.8543 - val_loss: 3.7795 - val_acc: 0.9135\n",
      "\n",
      "Epoch 00017: val_acc did not improve from 0.97106\n",
      "Epoch 18/100\n",
      "900000/900000 [==============================] - 830s 922us/step - loss: 8.6453 - acc: 0.7238 - val_loss: 1.7570 - val_acc: 0.6961\n",
      "\n",
      "Epoch 00018: val_acc did not improve from 0.97106\n",
      "Epoch 00018: early stopping\n"
     ]
    },
    {
     "data": {
      "text/plain": [
       "<keras.callbacks.History at 0x1f4d657ba58>"
      ]
     },
     "execution_count": 5,
     "metadata": {},
     "output_type": "execute_result"
    }
   ],
   "source": [
    "callbacks = [\n",
    "    EarlyStopping(monitor='val_loss', min_delta=1e-3, patience=10, verbose=1, mode='min'),\n",
    "    ModelCheckpoint(model_path, monitor='val_acc', verbose=1, save_best_only=True, mode='max')\n",
    "]\n",
    "model.compile(loss='mse', optimizer='adam', metrics=['accuracy'])\n",
    "model.fit(train_cipher, train_text, validation_split=.1, batch_size=10, epochs=100, callbacks=callbacks)"
   ]
  },
  {
   "cell_type": "markdown",
   "metadata": {},
   "source": [
    "### Predicting and Evaluating the Model"
   ]
  },
  {
   "cell_type": "code",
   "execution_count": 6,
   "metadata": {},
   "outputs": [],
   "source": [
    "model = load_model(model_path)"
   ]
  },
  {
   "cell_type": "code",
   "execution_count": 7,
   "metadata": {},
   "outputs": [
    {
     "name": "stdout",
     "output_type": "stream",
     "text": [
      "Model predicted that original text is: HelloWorld\n",
      "Test cipher vs encrypted prediction: p7V6mEh16b vs p7V6mEh16b\n"
     ]
    }
   ],
   "source": [
    "test_cyhper = encrypt('HelloWorld')\n",
    "prediction = to_txt(model.predict(to_vec(test_cyhper)))\n",
    "\n",
    "print('Model predicted that original text is:', prediction)\n",
    "print('Test cipher vs encrypted prediction:', test_cyhper, 'vs', encrypt(prediction))"
   ]
  }
 ],
 "metadata": {
  "kernelspec": {
   "display_name": "Python 3",
   "language": "python",
   "name": "python3"
  },
  "language_info": {
   "codemirror_mode": {
    "name": "ipython",
    "version": 3
   },
   "file_extension": ".py",
   "mimetype": "text/x-python",
   "name": "python",
   "nbconvert_exporter": "python",
   "pygments_lexer": "ipython3",
   "version": "3.6.7"
  }
 },
 "nbformat": 4,
 "nbformat_minor": 2
}
