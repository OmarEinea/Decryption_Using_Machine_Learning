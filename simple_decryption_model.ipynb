{
 "cells": [
  {
   "cell_type": "markdown",
   "metadata": {},
   "source": [
    "### Imports"
   ]
  },
  {
   "cell_type": "code",
   "execution_count": 1,
   "metadata": {},
   "outputs": [
    {
     "name": "stderr",
     "output_type": "stream",
     "text": [
      "Using TensorFlow backend.\n"
     ]
    }
   ],
   "source": [
    "import string, numpy as np\n",
    "from random import shuffle\n",
    "from keras.layers import Dense\n",
    "from keras.models import Sequential\n",
    "from keras.preprocessing.text import Tokenizer"
   ]
  },
  {
   "cell_type": "markdown",
   "metadata": {},
   "source": [
    "### Tokenizing Methods"
   ]
  },
  {
   "cell_type": "code",
   "execution_count": 2,
   "metadata": {},
   "outputs": [],
   "source": [
    "tokenizer = Tokenizer(char_level=True, lower=False)\n",
    "tokenizer.fit_on_texts(string.printable[:-2])\n",
    "\n",
    "def encode(text):\n",
    "    if isinstance(text, str): text = [text]\n",
    "    tokenized = np.array(tokenizer.texts_to_sequences(list(text)))\n",
    "    return tokenized.reshape(*tokenized.shape, 1)\n",
    "\n",
    "def decode(vector):\n",
    "    vector = vector.reshape(vector.shape[1]).tolist()\n",
    "    return tokenizer.sequences_to_texts([map(round, vector)])[0].replace(' ', '')"
   ]
  },
  {
   "cell_type": "markdown",
   "metadata": {},
   "source": [
    "### Generating and Preparing Data"
   ]
  },
  {
   "cell_type": "code",
   "execution_count": 3,
   "metadata": {},
   "outputs": [],
   "source": [
    "def encrypt(string):\n",
    "    return ''.join([chr(ord(letter) + 17) for letter in string])\n",
    "\n",
    "text = list(map(str, range(10000, 50000)))\n",
    "shuffle(text)\n",
    "\n",
    "train_cipher = encode(map(encrypt, text))\n",
    "train_text = encode(text)"
   ]
  },
  {
   "cell_type": "markdown",
   "metadata": {},
   "source": [
    "### Building and Training the Model"
   ]
  },
  {
   "cell_type": "code",
   "execution_count": 4,
   "metadata": {},
   "outputs": [
    {
     "name": "stdout",
     "output_type": "stream",
     "text": [
      "Epoch 1/2\n",
      "40000/40000 [==============================] - 3s 81us/step - loss: 2.3812 - acc: 0.5306\n",
      "Epoch 2/2\n",
      "40000/40000 [==============================] - 3s 78us/step - loss: 0.0082 - acc: 0.9972\n"
     ]
    },
    {
     "data": {
      "text/plain": [
       "<keras.callbacks.History at 0x2279f00b828>"
      ]
     },
     "execution_count": 4,
     "metadata": {},
     "output_type": "execute_result"
    }
   ],
   "source": [
    "model = Sequential()\n",
    "model.add(Dense(128, input_shape=train_cipher.shape[1:], activation='relu'))\n",
    "model.add(Dense(32, activation='relu'))\n",
    "model.add(Dense(1))\n",
    "\n",
    "model.compile(loss='mean_squared_error', optimizer='adam', metrics=['accuracy'])\n",
    "model.fit(train_cipher, train_text, batch_size=10, epochs=2)"
   ]
  },
  {
   "cell_type": "markdown",
   "metadata": {},
   "source": [
    "### Predicting and Evaluating the Model"
   ]
  },
  {
   "cell_type": "code",
   "execution_count": 5,
   "metadata": {},
   "outputs": [
    {
     "name": "stdout",
     "output_type": "stream",
     "text": [
      "Model predicted that original text is: 05617\n",
      "Test cipher vs encrypted prediction: AFGBH vs AFGBH\n"
     ]
    }
   ],
   "source": [
    "test_cyhper = 'AFGBH'\n",
    "prediction = decode(model.predict(encode(test_cyhper)))\n",
    "\n",
    "print('Model predicted that original text is:', prediction)\n",
    "print('Test cipher vs encrypted prediction:', test_cyhper, 'vs', encrypt(prediction))"
   ]
  }
 ],
 "metadata": {
  "kernelspec": {
   "display_name": "Python 3",
   "language": "python",
   "name": "python3"
  },
  "language_info": {
   "codemirror_mode": {
    "name": "ipython",
    "version": 3
   },
   "file_extension": ".py",
   "mimetype": "text/x-python",
   "name": "python",
   "nbconvert_exporter": "python",
   "pygments_lexer": "ipython3",
   "version": "3.6.7"
  }
 },
 "nbformat": 4,
 "nbformat_minor": 2
}
