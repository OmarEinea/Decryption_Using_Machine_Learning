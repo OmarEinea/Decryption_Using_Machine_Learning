{
 "cells": [
  {
   "cell_type": "markdown",
   "metadata": {},
   "source": [
    "### Imports"
   ]
  },
  {
   "cell_type": "code",
   "execution_count": 1,
   "metadata": {},
   "outputs": [
    {
     "name": "stderr",
     "output_type": "stream",
     "text": [
      "Using TensorFlow backend.\n"
     ]
    }
   ],
   "source": [
    "from keras.callbacks import EarlyStopping, ModelCheckpoint\n",
    "from keras.models import Sequential, load_model\n",
    "from keras.layers import Dense, Bidirectional\n",
    "from keras.layers.recurrent import GRU\n",
    "\n",
    "from encrypt import *\n",
    "from tools import *\n",
    "import string, numpy"
   ]
  },
  {
   "cell_type": "markdown",
   "metadata": {},
   "source": [
    "### Configurations"
   ]
  },
  {
   "cell_type": "code",
   "execution_count": 2,
   "metadata": {},
   "outputs": [],
   "source": [
    "letters = string.printable.split('!')[0]\n",
    "encrypt = transposition_cipher()\n",
    "samples_per_key = 200\n",
    "number_of_keys = 1000\n",
    "text_length = 12\n",
    "\n",
    "set_characters(letters)\n",
    "model_path = f\"models/keyed_{encrypt.name}_{len(letters)}x{text_length}_best_model.h5\""
   ]
  },
  {
   "cell_type": "markdown",
   "metadata": {},
   "source": [
    "### Generating and Preparing Data"
   ]
  },
  {
   "cell_type": "code",
   "execution_count": 3,
   "metadata": {},
   "outputs": [],
   "source": [
    "text = generate_text(text_length, samples_per_key)\n",
    "set_characters('12345678')\n",
    "keys = generate_text(8, number_of_keys, unique=True)\n",
    "ciphers = [list(map(encrypt(key), text)) for key in keys]"
   ]
  },
  {
   "cell_type": "code",
   "execution_count": 4,
   "metadata": {},
   "outputs": [],
   "source": [
    "train_keys = to_vec(keys, False)\n",
    "train_ciphers = numpy.array([to_vec(cipher, False) for cipher in ciphers])"
   ]
  },
  {
   "cell_type": "markdown",
   "metadata": {},
   "source": [
    "### Building and Training the Model"
   ]
  },
  {
   "cell_type": "code",
   "execution_count": 5,
   "metadata": {},
   "outputs": [
    {
     "name": "stdout",
     "output_type": "stream",
     "text": [
      "_________________________________________________________________\n",
      "Layer (type)                 Output Shape              Param #   \n",
      "=================================================================\n",
      "bidirectional_1 (Bidirection (None, 256)               108288    \n",
      "_________________________________________________________________\n",
      "dense_1 (Dense)              (None, 8)                 2056      \n",
      "=================================================================\n",
      "Total params: 110,344\n",
      "Trainable params: 110,344\n",
      "Non-trainable params: 0\n",
      "_________________________________________________________________\n"
     ]
    }
   ],
   "source": [
    "model = Sequential()\n",
    "model.add(Bidirectional(GRU(128, activation='relu'), input_shape=train_ciphers.shape[1:]))\n",
    "model.add(Dense(8, activation='linear'))\n",
    "model.summary()"
   ]
  },
  {
   "cell_type": "code",
   "execution_count": 6,
   "metadata": {},
   "outputs": [
    {
     "name": "stdout",
     "output_type": "stream",
     "text": [
      "Train on 900 samples, validate on 100 samples\n",
      "Epoch 1/50\n",
      "900/900 [==============================] - 70s 78ms/step - loss: 5.3184 - acc: 0.4556 - val_loss: 2.0041 - val_acc: 0.5500\n",
      "\n",
      "Epoch 00001: val_acc improved from -inf to 0.55000, saving model to models/keyed_transposition_cipher_62x12_best_model.h5\n",
      "Epoch 2/50\n",
      "900/900 [==============================] - 70s 78ms/step - loss: 1.5509 - acc: 0.6433 - val_loss: 1.2382 - val_acc: 0.5700\n",
      "\n",
      "Epoch 00002: val_acc improved from 0.55000 to 0.57000, saving model to models/keyed_transposition_cipher_62x12_best_model.h5\n",
      "Epoch 3/50\n",
      "900/900 [==============================] - 70s 77ms/step - loss: 1.0430 - acc: 0.6556 - val_loss: 0.9152 - val_acc: 0.5700\n",
      "\n",
      "Epoch 00003: val_acc did not improve from 0.57000\n",
      "Epoch 4/50\n",
      "900/900 [==============================] - 71s 79ms/step - loss: 0.8534 - acc: 0.6544 - val_loss: 0.8819 - val_acc: 0.6500\n",
      "\n",
      "Epoch 00004: val_acc improved from 0.57000 to 0.65000, saving model to models/keyed_transposition_cipher_62x12_best_model.h5\n",
      "Epoch 5/50\n",
      "900/900 [==============================] - 72s 80ms/step - loss: 0.6862 - acc: 0.6811 - val_loss: 0.6572 - val_acc: 0.6300\n",
      "\n",
      "Epoch 00005: val_acc did not improve from 0.65000\n",
      "Epoch 6/50\n",
      "900/900 [==============================] - 71s 79ms/step - loss: 0.5949 - acc: 0.7256 - val_loss: 0.6371 - val_acc: 0.6700\n",
      "\n",
      "Epoch 00006: val_acc improved from 0.65000 to 0.67000, saving model to models/keyed_transposition_cipher_62x12_best_model.h5\n",
      "Epoch 7/50\n",
      "900/900 [==============================] - 72s 80ms/step - loss: 0.4460 - acc: 0.7600 - val_loss: 0.4682 - val_acc: 0.7800\n",
      "\n",
      "Epoch 00007: val_acc improved from 0.67000 to 0.78000, saving model to models/keyed_transposition_cipher_62x12_best_model.h5\n",
      "Epoch 8/50\n",
      "900/900 [==============================] - 74s 82ms/step - loss: 0.3738 - acc: 0.8267 - val_loss: 0.4138 - val_acc: 0.7300\n",
      "\n",
      "Epoch 00008: val_acc did not improve from 0.78000\n",
      "Epoch 9/50\n",
      "900/900 [==============================] - 72s 80ms/step - loss: 0.3213 - acc: 0.8333 - val_loss: 0.3380 - val_acc: 0.8800\n",
      "\n",
      "Epoch 00009: val_acc improved from 0.78000 to 0.88000, saving model to models/keyed_transposition_cipher_62x12_best_model.h5\n",
      "Epoch 10/50\n",
      "900/900 [==============================] - 70s 78ms/step - loss: 0.2793 - acc: 0.8922 - val_loss: 0.3204 - val_acc: 0.8300\n",
      "\n",
      "Epoch 00010: val_acc did not improve from 0.88000\n",
      "Epoch 11/50\n",
      "900/900 [==============================] - 70s 78ms/step - loss: 0.2418 - acc: 0.8989 - val_loss: 0.2424 - val_acc: 0.8800\n",
      "\n",
      "Epoch 00011: val_acc did not improve from 0.88000\n",
      "Epoch 12/50\n",
      "900/900 [==============================] - 71s 79ms/step - loss: 0.2005 - acc: 0.9300 - val_loss: 0.2281 - val_acc: 0.9500\n",
      "\n",
      "Epoch 00012: val_acc improved from 0.88000 to 0.95000, saving model to models/keyed_transposition_cipher_62x12_best_model.h5\n",
      "Epoch 13/50\n",
      "900/900 [==============================] - 71s 79ms/step - loss: 0.1747 - acc: 0.9456 - val_loss: 0.1700 - val_acc: 0.9800\n",
      "\n",
      "Epoch 00013: val_acc improved from 0.95000 to 0.98000, saving model to models/keyed_transposition_cipher_62x12_best_model.h5\n",
      "Epoch 14/50\n",
      "900/900 [==============================] - 71s 79ms/step - loss: 0.1766 - acc: 0.9544 - val_loss: 0.1238 - val_acc: 0.9900\n",
      "\n",
      "Epoch 00014: val_acc improved from 0.98000 to 0.99000, saving model to models/keyed_transposition_cipher_62x12_best_model.h5\n",
      "Epoch 15/50\n",
      "900/900 [==============================] - 71s 79ms/step - loss: 0.1652 - acc: 0.9489 - val_loss: 0.3580 - val_acc: 0.8800\n",
      "\n",
      "Epoch 00015: val_acc did not improve from 0.99000\n",
      "Epoch 16/50\n",
      "900/900 [==============================] - 71s 79ms/step - loss: 0.1452 - acc: 0.9667 - val_loss: 0.1293 - val_acc: 0.9800\n",
      "\n",
      "Epoch 00016: val_acc did not improve from 0.99000\n",
      "Epoch 17/50\n",
      "900/900 [==============================] - 71s 79ms/step - loss: 0.1407 - acc: 0.9644 - val_loss: 0.1670 - val_acc: 0.9200\n",
      "\n",
      "Epoch 00017: val_acc did not improve from 0.99000\n",
      "Epoch 18/50\n",
      "900/900 [==============================] - 71s 79ms/step - loss: 0.1315 - acc: 0.9778 - val_loss: 0.0791 - val_acc: 1.0000\n",
      "\n",
      "Epoch 00018: val_acc improved from 0.99000 to 1.00000, saving model to models/keyed_transposition_cipher_62x12_best_model.h5\n",
      "Epoch 19/50\n",
      "900/900 [==============================] - 72s 80ms/step - loss: 0.1342 - acc: 0.9711 - val_loss: 0.2445 - val_acc: 0.9300\n",
      "\n",
      "Epoch 00019: val_acc did not improve from 1.00000\n",
      "Epoch 20/50\n",
      "900/900 [==============================] - 72s 80ms/step - loss: 0.1074 - acc: 0.9733 - val_loss: 0.0972 - val_acc: 1.0000\n",
      "\n",
      "Epoch 00020: val_acc did not improve from 1.00000\n",
      "Epoch 21/50\n",
      "900/900 [==============================] - 73s 81ms/step - loss: 0.1152 - acc: 0.9822 - val_loss: 0.1017 - val_acc: 0.9800\n",
      "\n",
      "Epoch 00021: val_acc did not improve from 1.00000\n",
      "Epoch 22/50\n",
      "900/900 [==============================] - 72s 80ms/step - loss: 0.1312 - acc: 0.9711 - val_loss: 0.0930 - val_acc: 0.9200\n",
      "\n",
      "Epoch 00022: val_acc did not improve from 1.00000\n",
      "Epoch 00022: early stopping\n"
     ]
    },
    {
     "data": {
      "text/plain": [
       "<keras.callbacks.History at 0x2d6bdd03748>"
      ]
     },
     "execution_count": 6,
     "metadata": {},
     "output_type": "execute_result"
    }
   ],
   "source": [
    "callbacks = [\n",
    "    EarlyStopping(monitor='val_loss', min_delta=1e-3, patience=4, verbose=8, mode='min'),\n",
    "    ModelCheckpoint(model_path, monitor='val_acc', verbose=1, save_best_only=True, mode='max')\n",
    "]\n",
    "model.compile(loss='mse', optimizer='adam', metrics=['accuracy'])\n",
    "model.fit(train_ciphers, train_keys, validation_split=.1, batch_size=1, epochs=50, callbacks=callbacks)"
   ]
  },
  {
   "cell_type": "markdown",
   "metadata": {},
   "source": [
    "### Predicting and Evaluating the Model"
   ]
  },
  {
   "cell_type": "code",
   "execution_count": 9,
   "metadata": {},
   "outputs": [],
   "source": [
    "model = load_model(model_path)"
   ]
  },
  {
   "cell_type": "code",
   "execution_count": 10,
   "metadata": {},
   "outputs": [
    {
     "name": "stdout",
     "output_type": "stream",
     "text": [
      "Average accurecy: 80.8%\n"
     ]
    }
   ],
   "source": [
    "percent = 0\n",
    "\n",
    "for key, cipher in zip(keys, train_ciphers):\n",
    "    prediction = to_txt(model.predict(cipher.reshape((1, samples_per_key, text_length))))\n",
    "    percent += match_percentage(prediction, key)\n",
    "\n",
    "print(f'Average accurecy: {percent / len(keys):.3}%')"
   ]
  }
 ],
 "metadata": {
  "kernelspec": {
   "display_name": "Python 3",
   "language": "python",
   "name": "python3"
  },
  "language_info": {
   "codemirror_mode": {
    "name": "ipython",
    "version": 3
   },
   "file_extension": ".py",
   "mimetype": "text/x-python",
   "name": "python",
   "nbconvert_exporter": "python",
   "pygments_lexer": "ipython3",
   "version": "3.6.7"
  }
 },
 "nbformat": 4,
 "nbformat_minor": 2
}
