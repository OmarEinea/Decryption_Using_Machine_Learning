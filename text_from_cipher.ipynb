{
 "cells": [
  {
   "cell_type": "markdown",
   "metadata": {},
   "source": [
    "### Imports"
   ]
  },
  {
   "cell_type": "code",
   "execution_count": 1,
   "metadata": {},
   "outputs": [
    {
     "name": "stderr",
     "output_type": "stream",
     "text": [
      "Using TensorFlow backend.\n"
     ]
    }
   ],
   "source": [
    "from keras.callbacks import EarlyStopping, ModelCheckpoint\n",
    "from keras.models import Sequential, load_model\n",
    "from keras.layers import Dense, Bidirectional\n",
    "from keras.layers.recurrent import GRU\n",
    "\n",
    "from encrypt import *\n",
    "from tools import *\n",
    "import string"
   ]
  },
  {
   "cell_type": "markdown",
   "metadata": {},
   "source": [
    "### Configurations"
   ]
  },
  {
   "cell_type": "code",
   "execution_count": 2,
   "metadata": {},
   "outputs": [],
   "source": [
    "letters = string.printable.split('!')[0]\n",
    "encrypt = des_cipher('0')\n",
    "samples_count = 100000\n",
    "text_length = 16\n",
    "\n",
    "set_characters(letters)\n",
    "model_path = f'models/{encrypt.name}_{len(letters)}x{text_length}_best_model.h5'"
   ]
  },
  {
   "cell_type": "markdown",
   "metadata": {},
   "source": [
    "### Generating and Preparing Data"
   ]
  },
  {
   "cell_type": "code",
   "execution_count": 3,
   "metadata": {},
   "outputs": [],
   "source": [
    "text = generate_text(text_length, samples_count)\n",
    "cipher = list(map(encrypt, text))\n",
    "\n",
    "train_text = to_vec(text, False)\n",
    "train_cipher = to_vec(cipher)"
   ]
  },
  {
   "cell_type": "markdown",
   "metadata": {},
   "source": [
    "### Building and Training the Model"
   ]
  },
  {
   "cell_type": "code",
   "execution_count": 4,
   "metadata": {},
   "outputs": [
    {
     "name": "stdout",
     "output_type": "stream",
     "text": [
      "_________________________________________________________________\n",
      "Layer (type)                 Output Shape              Param #   \n",
      "=================================================================\n",
      "bidirectional_1 (Bidirection (None, 24, 256)           99840     \n",
      "_________________________________________________________________\n",
      "bidirectional_2 (Bidirection (None, 128)               123264    \n",
      "_________________________________________________________________\n",
      "dense_1 (Dense)              (None, 16)                2064      \n",
      "=================================================================\n",
      "Total params: 225,168\n",
      "Trainable params: 225,168\n",
      "Non-trainable params: 0\n",
      "_________________________________________________________________\n"
     ]
    }
   ],
   "source": [
    "model = Sequential()\n",
    "model.add(Bidirectional(GRU(128, activation='relu', return_sequences=True), input_shape=train_cipher.shape[1:]))\n",
    "model.add(Bidirectional(GRU(64, activation='relu')))\n",
    "model.add(Dense(text_length, activation='linear'))\n",
    "model.summary()"
   ]
  },
  {
   "cell_type": "code",
   "execution_count": 5,
   "metadata": {},
   "outputs": [
    {
     "name": "stdout",
     "output_type": "stream",
     "text": [
      "Train on 90000 samples, validate on 10000 samples\n",
      "Epoch 1/100\n",
      "90000/90000 [==============================] - 334s 4ms/step - loss: 323.6904 - acc: 0.0630 - val_loss: 324.0889 - val_acc: 0.0585\n",
      "\n",
      "Epoch 00001: val_acc improved from -inf to 0.05850, saving model to models/des_cipher_62x16_best_model.h5\n",
      "Epoch 2/100\n",
      "90000/90000 [==============================] - 364s 4ms/step - loss: 321.5770 - acc: 0.0625 - val_loss: 321.5467 - val_acc: 0.0568\n",
      "\n",
      "Epoch 00002: val_acc did not improve from 0.05850\n",
      "Epoch 3/100\n",
      "90000/90000 [==============================] - 348s 4ms/step - loss: 321.3194 - acc: 0.0614 - val_loss: 321.8095 - val_acc: 0.0634\n",
      "\n",
      "Epoch 00003: val_acc improved from 0.05850 to 0.06340, saving model to models/des_cipher_62x16_best_model.h5\n",
      "Epoch 4/100\n",
      "90000/90000 [==============================] - 343s 4ms/step - loss: 321.1393 - acc: 0.0622 - val_loss: 322.8319 - val_acc: 0.0606\n",
      "\n",
      "Epoch 00004: val_acc did not improve from 0.06340\n",
      "Epoch 5/100\n",
      "90000/90000 [==============================] - 327s 4ms/step - loss: 321.0749 - acc: 0.0621 - val_loss: 322.6609 - val_acc: 0.0598\n",
      "\n",
      "Epoch 00005: val_acc did not improve from 0.06340\n",
      "Epoch 6/100\n",
      "90000/90000 [==============================] - 319s 4ms/step - loss: 320.9718 - acc: 0.0615 - val_loss: 323.7411 - val_acc: 0.0536\n",
      "\n",
      "Epoch 00006: val_acc did not improve from 0.06340\n",
      "Epoch 7/100\n",
      "90000/90000 [==============================] - 367s 4ms/step - loss: 320.9074 - acc: 0.0631 - val_loss: 321.5215 - val_acc: 0.0568\n",
      "\n",
      "Epoch 00007: val_acc did not improve from 0.06340\n",
      "Epoch 8/100\n",
      "90000/90000 [==============================] - 348s 4ms/step - loss: 320.8834 - acc: 0.0606 - val_loss: 321.6290 - val_acc: 0.0692\n",
      "\n",
      "Epoch 00008: val_acc improved from 0.06340 to 0.06920, saving model to models/des_cipher_62x16_best_model.h5\n",
      "Epoch 9/100\n",
      "90000/90000 [==============================] - 373s 4ms/step - loss: 320.8543 - acc: 0.0621 - val_loss: 321.1982 - val_acc: 0.0586\n",
      "\n",
      "Epoch 00009: val_acc did not improve from 0.06920\n",
      "Epoch 10/100\n",
      "90000/90000 [==============================] - 319s 4ms/step - loss: 320.8445 - acc: 0.0632 - val_loss: 321.8579 - val_acc: 0.0578\n",
      "\n",
      "Epoch 00010: val_acc did not improve from 0.06920\n",
      "Epoch 11/100\n",
      "90000/90000 [==============================] - 315s 4ms/step - loss: 320.8298 - acc: 0.0635 - val_loss: 321.4832 - val_acc: 0.0691\n",
      "\n",
      "Epoch 00011: val_acc did not improve from 0.06920\n",
      "Epoch 12/100\n",
      "90000/90000 [==============================] - 345s 4ms/step - loss: 320.8078 - acc: 0.0631 - val_loss: 321.3665 - val_acc: 0.0563\n",
      "\n",
      "Epoch 00012: val_acc did not improve from 0.06920\n",
      "Epoch 13/100\n",
      "90000/90000 [==============================] - 345s 4ms/step - loss: 320.7960 - acc: 0.0646 - val_loss: 321.3368 - val_acc: 0.0587\n",
      "\n",
      "Epoch 00013: val_acc did not improve from 0.06920\n",
      "Epoch 14/100\n",
      "90000/90000 [==============================] - 348s 4ms/step - loss: 320.7720 - acc: 0.0625 - val_loss: 321.2037 - val_acc: 0.0588\n",
      "\n",
      "Epoch 00014: val_acc did not improve from 0.06920\n",
      "Epoch 15/100\n",
      "90000/90000 [==============================] - 425s 5ms/step - loss: 320.7500 - acc: 0.0631 - val_loss: 321.2973 - val_acc: 0.0645oss: 320.7575 - acc: 0.0\n",
      "\n",
      "Epoch 00015: val_acc did not improve from 0.06920\n",
      "Epoch 16/100\n",
      "90000/90000 [==============================] - 406s 5ms/step - loss: 320.7454 - acc: 0.0636 - val_loss: 321.2443 - val_acc: 0.0564\n",
      "\n",
      "Epoch 00016: val_acc did not improve from 0.06920\n",
      "Epoch 17/100\n",
      "90000/90000 [==============================] - 387s 4ms/step - loss: 320.7487 - acc: 0.0620 - val_loss: 321.1146 - val_acc: 0.0691\n",
      "\n",
      "Epoch 00017: val_acc did not improve from 0.06920\n",
      "Epoch 18/100\n",
      "90000/90000 [==============================] - 386s 4ms/step - loss: 320.7312 - acc: 0.0635 - val_loss: 321.2625 - val_acc: 0.0640\n",
      "\n",
      "Epoch 00018: val_acc did not improve from 0.06920\n",
      "Epoch 19/100\n",
      "90000/90000 [==============================] - 393s 4ms/step - loss: 320.6988 - acc: 0.0627 - val_loss: 321.1826 - val_acc: 0.0672\n",
      "\n",
      "Epoch 00019: val_acc did not improve from 0.06920\n",
      "Epoch 20/100\n",
      "90000/90000 [==============================] - 387s 4ms/step - loss: 320.7028 - acc: 0.0635 - val_loss: 321.4017 - val_acc: 0.0520\n",
      "\n",
      "Epoch 00020: val_acc did not improve from 0.06920\n",
      "Epoch 21/100\n",
      "90000/90000 [==============================] - 380s 4ms/step - loss: 320.6973 - acc: 0.0619 - val_loss: 321.2971 - val_acc: 0.0677\n",
      "\n",
      "Epoch 00021: val_acc did not improve from 0.06920\n",
      "Epoch 22/100\n",
      "90000/90000 [==============================] - 378s 4ms/step - loss: 320.6968 - acc: 0.0623 - val_loss: 321.3824 - val_acc: 0.0638\n",
      "\n",
      "Epoch 00022: val_acc did not improve from 0.06920\n",
      "Epoch 23/100\n",
      "90000/90000 [==============================] - 375s 4ms/step - loss: 320.6809 - acc: 0.0630 - val_loss: 321.4561 - val_acc: 0.0522\n",
      "\n",
      "Epoch 00023: val_acc did not improve from 0.06920\n",
      "Epoch 24/100\n",
      "90000/90000 [==============================] - 401s 4ms/step - loss: 320.7218 - acc: 0.0630 - val_loss: 321.4955 - val_acc: 0.0712\n",
      "\n",
      "Epoch 00024: val_acc improved from 0.06920 to 0.07120, saving model to models/des_cipher_62x16_best_model.h5\n",
      "Epoch 25/100\n",
      "90000/90000 [==============================] - 655s 7ms/step - loss: 320.7034 - acc: 0.0625 - val_loss: 321.3405 - val_acc: 0.0697\n",
      "\n"
     ]
    }
   ],
   "source": [
    "callbacks = [\n",
    "    EarlyStopping(monitor='val_loss', min_delta=1e-3, patience=10, verbose=1, mode='min'),\n",
    "    ModelCheckpoint(model_path, monitor='val_acc', verbose=1, save_best_only=True, mode='max')\n",
    "]\n",
    "model.compile(loss='mse', optimizer='adam', metrics=['accuracy'])\n",
    "model.fit(train_cipher, train_text, validation_split=.1, batch_size=10, epochs=100, callbacks=callbacks)"
   ]
  },
  {
   "cell_type": "markdown",
   "metadata": {},
   "source": [
    "### Predicting and Evaluating the Model"
   ]
  },
  {
   "cell_type": "code",
   "execution_count": 6,
   "metadata": {},
   "outputs": [],
   "source": [
    "model = load_model(model_path)"
   ]
  },
  {
   "cell_type": "code",
   "execution_count": 7,
   "metadata": {},
   "outputs": [
    {
     "name": "stdout",
     "output_type": "stream",
     "text": [
      "Model predicted that original text is: vvwwuvvvvuvvwwvw\n",
      "\n",
      "Test cipher vs encrypted prediction:\n",
      "nr-Hdcor9P28UjS1q8AfjQ==\n",
      "OFvEweE_yZ0h0WGjmie_Lw==\n"
     ]
    },
    {
     "data": {
      "text/plain": [
       "8.333333333333332"
      ]
     },
     "execution_count": 7,
     "metadata": {},
     "output_type": "execute_result"
    }
   ],
   "source": [
    "test_cyhper = encrypt('HelloWorldhello1')\n",
    "prediction = to_txt(model.predict(to_vec(test_cyhper)))\n",
    "\n",
    "print('Model predicted that original text is:', prediction)\n",
    "print(f'\\nTest cipher vs encrypted prediction:\\n{test_cyhper}\\n{encrypt(prediction)}')\n",
    "match_percentage(test_cyhper, encrypt(prediction))"
   ]
  }
 ],
 "metadata": {
  "kernelspec": {
   "display_name": "Python 3",
   "language": "python",
   "name": "python3"
  },
  "language_info": {
   "codemirror_mode": {
    "name": "ipython",
    "version": 3
   },
   "file_extension": ".py",
   "mimetype": "text/x-python",
   "name": "python",
   "nbconvert_exporter": "python",
   "pygments_lexer": "ipython3",
   "version": "3.6.7"
  }
 },
 "nbformat": 4,
 "nbformat_minor": 2
}
