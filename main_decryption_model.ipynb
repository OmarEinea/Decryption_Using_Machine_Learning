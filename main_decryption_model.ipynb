{
 "cells": [
  {
   "cell_type": "markdown",
   "metadata": {},
   "source": [
    "### Imports"
   ]
  },
  {
   "cell_type": "code",
   "execution_count": 1,
   "metadata": {},
   "outputs": [
    {
     "name": "stderr",
     "output_type": "stream",
     "text": [
      "Using TensorFlow backend.\n"
     ]
    }
   ],
   "source": [
    "import string, numpy as np\n",
    "from random import shuffle\n",
    "from keras.layers import Dense\n",
    "from keras.layers.recurrent import GRU\n",
    "from keras.models import Sequential\n",
    "from keras.preprocessing.text import Tokenizer"
   ]
  },
  {
   "cell_type": "markdown",
   "metadata": {},
   "source": [
    "### Tokenizing Methods"
   ]
  },
  {
   "cell_type": "code",
   "execution_count": 2,
   "metadata": {},
   "outputs": [],
   "source": [
    "tokenizer = Tokenizer(char_level=True, lower=False)\n",
    "tokenizer.fit_on_texts(string.printable[:-2])\n",
    "\n",
    "def to_vec(text):\n",
    "    if isinstance(text, str): text = [text]\n",
    "    tokenized = np.array(tokenizer.texts_to_sequences(list(text)))\n",
    "    return tokenized.reshape(*tokenized.shape, 1)\n",
    "\n",
    "def to_txt(vector):\n",
    "    vector = vector.reshape(vector.shape[1]).tolist()\n",
    "    return tokenizer.sequences_to_texts([map(round, vector)])[0].replace(' ', '')"
   ]
  },
  {
   "cell_type": "markdown",
   "metadata": {},
   "source": [
    "### Generating and Preparing Data"
   ]
  },
  {
   "cell_type": "code",
   "execution_count": 3,
   "metadata": {},
   "outputs": [],
   "source": [
    "def encrypt(string):\n",
    "    length = len(string)\n",
    "    return ''.join([chr(ord(string[(i+1)%length]) + 17) for i in range(length)])\n",
    "\n",
    "text = list(map(str, range(10000, 99999)))\n",
    "shuffle(text)\n",
    "\n",
    "train_cipher = to_vec(map(encrypt, text))\n",
    "train_text = to_vec(text)"
   ]
  },
  {
   "cell_type": "markdown",
   "metadata": {},
   "source": [
    "### Building and Training the Model"
   ]
  },
  {
   "cell_type": "code",
   "execution_count": 4,
   "metadata": {},
   "outputs": [
    {
     "name": "stdout",
     "output_type": "stream",
     "text": [
      "Epoch 1/5\n",
      "89999/89999 [==============================] - 72s 799us/step - loss: 1.5098 - acc: 0.8005\n",
      "Epoch 2/5\n",
      "89999/89999 [==============================] - 76s 840us/step - loss: 1.3570 - acc: 0.8217\n",
      "Epoch 3/5\n",
      "89999/89999 [==============================] - 78s 870us/step - loss: 1.3536 - acc: 0.8220\n",
      "Epoch 4/5\n",
      "89999/89999 [==============================] - 85s 948us/step - loss: 1.3508 - acc: 0.8222\n",
      "Epoch 5/5\n",
      "89999/89999 [==============================] - 74s 820us/step - loss: 1.3488 - acc: 0.8223\n"
     ]
    },
    {
     "data": {
      "text/plain": [
       "<keras.callbacks.History at 0x1a8b94fd6d8>"
      ]
     },
     "execution_count": 4,
     "metadata": {},
     "output_type": "execute_result"
    }
   ],
   "source": [
    "model = Sequential()\n",
    "model.add(GRU(128, activation='relu', input_shape=train_cipher.shape[1:], return_sequences=True))\n",
    "model.add(GRU(64, activation='relu', return_sequences=True))\n",
    "model.add(Dense(1))\n",
    "\n",
    "model.compile(loss='mean_squared_error', optimizer='adam', metrics=['accuracy'])\n",
    "model.fit(train_cipher, train_text, batch_size=10, epochs=5)"
   ]
  },
  {
   "cell_type": "markdown",
   "metadata": {},
   "source": [
    "### Predicting and Evaluating the Model"
   ]
  },
  {
   "cell_type": "code",
   "execution_count": 5,
   "metadata": {},
   "outputs": [
    {
     "name": "stdout",
     "output_type": "stream",
     "text": [
      "Model predicted that original text is: 50561\n",
      "Test cipher vs encrypted prediction: AFGBH vs AFGBF\n"
     ]
    }
   ],
   "source": [
    "test_cyhper = 'AFGBH'\n",
    "prediction = to_txt(model.predict(to_vec(test_cyhper)))\n",
    "\n",
    "print('Model predicted that original text is:', prediction)\n",
    "print('Test cipher vs encrypted prediction:', test_cyhper, 'vs', encrypt(prediction))"
   ]
  }
 ],
 "metadata": {
  "kernelspec": {
   "display_name": "Python 3",
   "language": "python",
   "name": "python3"
  },
  "language_info": {
   "codemirror_mode": {
    "name": "ipython",
    "version": 3
   },
   "file_extension": ".py",
   "mimetype": "text/x-python",
   "name": "python",
   "nbconvert_exporter": "python",
   "pygments_lexer": "ipython3",
   "version": "3.6.7"
  }
 },
 "nbformat": 4,
 "nbformat_minor": 2
}
